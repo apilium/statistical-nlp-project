{
 "cells": [
  {
   "cell_type": "markdown",
   "metadata": {},
   "source": [
    "## 1. Data retrieval"
   ]
  },
  {
   "cell_type": "code",
   "execution_count": 24,
   "metadata": {},
   "outputs": [],
   "source": [
    "import torch\n",
    "import gzip\n",
    "import json\n",
    "import pandas as pd\n",
    "\n",
    "from operator import itemgetter\n",
    "from summarizer import Summarizer"
   ]
  },
  {
   "cell_type": "markdown",
   "metadata": {},
   "source": [
    "### Data directory and batch size selection"
   ]
  },
  {
   "cell_type": "code",
   "execution_count": 29,
   "metadata": {},
   "outputs": [],
   "source": [
    "# Modify this to wherever you locally downloaded the data\n",
    "data_base_path = './data/newsroom-release/release/'\n",
    "wordpiece_cased_path = 'bert-base-cased-vocab.txt'\n",
    "\n",
    "# train_path = data_base_path + 'train.jsonl.gz' DONT USE THIS\n",
    "validation_path = data_base_path + 'dev.jsonl.gz'\n",
    "test_path = data_base_path + 'dev.jsonl.gz'\n",
    "\n",
    "batch_size = 1"
   ]
  },
  {
   "cell_type": "code",
   "execution_count": 30,
   "metadata": {},
   "outputs": [],
   "source": [
    "class NewsroomDataset(torch.utils.data.Dataset):\n",
    "    '''\n",
    "    Attributes:\n",
    "        batch_size: Batch size to be taken on single getitem\n",
    "        file: path to the dataset file\n",
    "        category: category of the data summarization. i.e. 'extractive'\n",
    "    '''\n",
    "    def __init__(self, path, category: str):\n",
    "        self.category = category\n",
    "        data = []\n",
    "        with gzip.open(path) as f:\n",
    "            for ln in f:\n",
    "                obj = json.loads(ln)\n",
    "                data.append(obj)\n",
    "        data = pd.DataFrame(data)\n",
    "        # Take only samples with certain category\n",
    "        self.data = data.loc[data['density_bin'] == self.category, :]\n",
    "        \n",
    "    def __len__(self):\n",
    "        return len(self.data)\n",
    "\n",
    "    def __getitem__(self, idx):\n",
    "        return dict(self.data.iloc[idx, :])"
   ]
  },
  {
   "cell_type": "code",
   "execution_count": 31,
   "metadata": {},
   "outputs": [],
   "source": [
    "test_dset = NewsroomDataset(test_path, \"extractive\")\n",
    "testloader = torch.utils.data.DataLoader(test_dset, batch_size=batch_size)   "
   ]
  },
  {
   "cell_type": "markdown",
   "metadata": {},
   "source": [
    "### Verify that the dataloader works like we want"
   ]
  },
  {
   "cell_type": "code",
   "execution_count": 38,
   "metadata": {},
   "outputs": [
    {
     "name": "stdout",
     "output_type": "stream",
     "text": [
      "Text-to-summarize: ['BANGALORE, India, June 4 \\x97 The world\\'s biggest computer services company could not have chosen a more appropriate setting to lay out its strategy for staying on top.\\n\\nA building housing I.B.M.\\'s software laboratory and application service teams on the company\\'s corporate campus in Bangalore, India.\\n\\nOn Tuesday, on the expansive grounds of the Bangalore Palace, a colonial-era mansion once inhabited by a maharajah, the chairman and chief executive of I.B.M., Samuel J. Palmisano, will address 10,000 Indian employees. He will share the stage with A. P. J. Abdul Kalam, India\\'s president, and Sunil Mittal, chairman of the country\\'s largest cellular services provider, Bharti Tele-Ventures. An additional 6,500 employees will look in on the town hall-style meeting by satellite from other Indian cities.\\n\\nOn the same day, Mr. Palmisano and other top executives will meet here with investment analysts and local customers to showcase I.B.M.\\'s global integration capabilities in a briefing customarily held in New York. During the week, the company will lead the 50 analysts on a tour of its Indian operations.\\n\\nThe meetings are more than an exercise in public and investor relations. They are an acknowledgment of India\\'s critical role in I.B.M.\\'s strategy, providing it with its fastest-growing market and a crucial base for delivering services to much of the world.\\n\\n\"A significant part of any large project that we do worldwide is today being delivered out of here,\" said Shanker Annaswamy, I.B.M.\\'s managing director for India, who presides over what is now the company\\'s second-largest worldwide operation. In the last few years, even as the company has laid off thousands of workers in the United States and Europe, the growth in I.B.M.\\'s work force in India has been remarkable. From 9,000 employees in early 2004, the number has grown to 43,000 (out of 329,000 worldwide), making I.B.M. the country\\'s largest multinational employer.\\n\\nSome of the growth has been through acquisition. In a deal valued at about $160 million in 2004, I.B.M. bought Daksh eServices of New Delhi, India\\'s third-largest back-office outsourcing firm with 6,000 workers. Since then, that operation alone has grown to 20,000 employees.\\n\\n\"Now that companies such as Infosys Technologies and Cognizant have clearly demonstrated that the services marketplace is not impregnable, the new battle is for talent,\" said N. Lakshmi Narayanan, president and chief executive of Cognizant Technology Solutions of Teaneck, N.J. Cognizant is one of I.B.M.\\'s competitors; it is incorporated in the United States but has the bulk of its 28,000 employees in India.\\n\\nI.B.M. is growing not only in size by adding new hires, but also in revenue. The company\\'s business in India grew 61 percent in the first quarter of this year, 55 percent in 2005 and 45 percent the year before.\\n\\nThat growth has not come just from taking advantage of the country\\'s pool of low-cost talent. In recent months, the technology hub of Bangalore has become the center of I.B.M.\\'s efforts to combine high-value, cutting-edge services with its low-cost model.\\n\\nFor instance, the I.B.M. India Research Lab, with units in Bangalore and New Delhi and a hundred employees with Ph.D.\\'s, has created crucial products like a container tracking system for global shipping companies and a warranty management system for automakers in the United States. Out of the second project, I.B.M. researchers have fashioned a predictable modeling system that helps track the failure of components inside a vehicle, a potentially important tool.\\n\\nIn March, the company started a Global Business Solutions Center here, announcing that it would represent the \"future of consulting services.\" I.B.M. said that it expected to invest more than $200 million a year in the new center. The company hopes to provide clients with access to the expertise of its 60,000 consultants worldwide in complex areas like supply chain management and compliance with banking rules.\\n\\nBut competitors are trying to gain on I.B.M. The rival consulting firm, Accenture, based in Hamilton, Bermuda, is ramping up equally rapidly in India, while another outsourcing competitor, Electronic Data Systems, based in Plano, Tex., recently made an offer for a controlling stake in Mphasis, a midsize outsourcing firm in Bangalore.\\n\\nThe race for India\\'s skilled, inexpensive talent may not stop at I.B.M. \"Many companies in the technology development and support niche covet and value these workers highly,\" said Kevin M. Moss, a New York-based special counsel in Kramer Levin Naftalis & Frankel\\'s outsourcing and technology transactions group.\\n\\nOn the pricing front, rivals like Tata Consultancy Services of Mumbai and Infosys Technologies of Bangalore have pioneered and perfected the low-cost model. Infosys Technologies, with 52,700 employees, has $2.15 billion in annual revenues, a figure that is growing 30 percent annually.\\n\\nBut the depth, breadth and geographic spread of I.B.M.\\'s global operations \\x97 which generated $91 billion in sales last year, $47 billion from services \\x97 keep it ahead of its competitors for now. For example, I.B.M. manages a system it developed for a large American oil company, which it would not identify, that keeps track of consumption and oversees financial and administrative processes as well as the technical help desk, data network and servers. I.B.M. is also researching tools to track company assets and reduce costs.\\n\\n\"All this is done for one customer seamlessly from three of our centers in Bangalore, Chicago and outside of London,\" said Amitabh Ray, director of global delivery, I.B.M. Global Services. \"These kinds of capabilities and global scale are unmatched.\"\\n\\nBut smaller rivals are playing catch-up here, too, by talking to customers about their needs and then developing custom-built software. Infosys Technologies, for instance, has a consulting unit with headquarters in Fremont, Calif., near Silicon Valley, where it now has 200 consultants, and an additional 1,800 consultants in India.\\n\\nMeanwhile, Mr. Annaswamy, I.B.M.\\'s chief executive in India, acknowledged that growth was difficult because thousands of recruits had to be quickly integrated into the company. Salaries are rising, and employee costs are also moving up, he said.\\n\\nEven so, the Indian operation is becoming more and more strategic for the company. \"Both in terms of size and scale, India has become the focal point,\" Mr. Ray, of I.B.M. Global Services, said.'], \n",
      "\n",
      "summarization: ['India provides I.B.M. with its fastest-growing market and a crucial base for delivering services to much of the world.']\n"
     ]
    }
   ],
   "source": [
    "tset = next(iter(testloader))\n",
    "text, summary = itemgetter('text', 'summary')(tset)\n",
    "print(f\"Text-to-summarize: {text}, \\n\\nsummarization: {summary}\")"
   ]
  },
  {
   "cell_type": "markdown",
   "metadata": {},
   "source": [
    "## 2. Initialize model and do predictions"
   ]
  },
  {
   "cell_type": "markdown",
   "metadata": {},
   "source": [
    "## 3. Performance evaluation and results"
   ]
  }
 ],
 "metadata": {
  "kernelspec": {
   "display_name": "pytorch",
   "language": "python",
   "name": "pytorch"
  },
  "language_info": {
   "codemirror_mode": {
    "name": "ipython",
    "version": 3
   },
   "file_extension": ".py",
   "mimetype": "text/x-python",
   "name": "python",
   "nbconvert_exporter": "python",
   "pygments_lexer": "ipython3",
   "version": "3.6.10"
  }
 },
 "nbformat": 4,
 "nbformat_minor": 4
}
